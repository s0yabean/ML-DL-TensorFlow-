{
 "cells": [
  {
   "cell_type": "code",
   "execution_count": 1,
   "metadata": {},
   "outputs": [],
   "source": [
    "import tensorflow as tf"
   ]
  },
  {
   "cell_type": "code",
   "execution_count": 2,
   "metadata": {},
   "outputs": [
    {
     "name": "stdout",
     "output_type": "stream",
     "text": [
      "1.8.0\n"
     ]
    }
   ],
   "source": [
    "print(tf.__version__)"
   ]
  },
  {
   "cell_type": "markdown",
   "metadata": {},
   "source": [
    "### Basic OPerations"
   ]
  },
  {
   "cell_type": "code",
   "execution_count": 3,
   "metadata": {},
   "outputs": [],
   "source": [
    "# Step 1: Build the Graph\n",
    "a = tf.constant(1)\n",
    "b = tf.constant(2)\n",
    "c = tf.add(a,b)"
   ]
  },
  {
   "cell_type": "code",
   "execution_count": 4,
   "metadata": {},
   "outputs": [
    {
     "name": "stdout",
     "output_type": "stream",
     "text": [
      "Tensor(\"Add:0\", shape=(), dtype=int32)\n"
     ]
    }
   ],
   "source": [
    "print(c)"
   ]
  },
  {
   "cell_type": "code",
   "execution_count": 5,
   "metadata": {},
   "outputs": [
    {
     "name": "stdout",
     "output_type": "stream",
     "text": [
      "1\n",
      "2\n",
      "3\n"
     ]
    }
   ],
   "source": [
    "# Step 2: Execute the Graph\n",
    "sess = tf.Session()\n",
    "print(sess.run(a))\n",
    "print(sess.run(b))\n",
    "print(sess.run(c))"
   ]
  },
  {
   "cell_type": "code",
   "execution_count": 6,
   "metadata": {},
   "outputs": [
    {
     "name": "stdout",
     "output_type": "stream",
     "text": [
      "22.4\n"
     ]
    }
   ],
   "source": [
    "# Data Type\n",
    "# Normally that is how you type Python\n",
    "a = 4\n",
    "b = 5.6\n",
    "print(a*b)"
   ]
  },
  {
   "cell_type": "code",
   "execution_count": 7,
   "metadata": {},
   "outputs": [],
   "source": [
    "a = tf.constant(4,dtype=tf.float32)\n",
    "b = tf.constant(5.6,dtype=tf.float32)\n",
    "c = tf.multiply(a,b)"
   ]
  },
  {
   "cell_type": "code",
   "execution_count": 8,
   "metadata": {},
   "outputs": [
    {
     "name": "stdout",
     "output_type": "stream",
     "text": [
      "Tensor(\"Mul:0\", shape=(), dtype=float32)\n"
     ]
    }
   ],
   "source": [
    "print(c)"
   ]
  },
  {
   "cell_type": "code",
   "execution_count": 9,
   "metadata": {},
   "outputs": [
    {
     "name": "stdout",
     "output_type": "stream",
     "text": [
      "22.4\n"
     ]
    }
   ],
   "source": [
    "print(sess.run(c))"
   ]
  },
  {
   "cell_type": "code",
   "execution_count": 10,
   "metadata": {},
   "outputs": [],
   "source": [
    "a = tf.constant(1.8,dtype=tf.float32)\n",
    "b = tf.cast(a, tf.int32)"
   ]
  },
  {
   "cell_type": "code",
   "execution_count": 14,
   "metadata": {},
   "outputs": [
    {
     "name": "stdout",
     "output_type": "stream",
     "text": [
      "1.8\n",
      "1\n"
     ]
    }
   ],
   "source": [
    "print(sess.run(a))\n",
    "print(sess.run(b))"
   ]
  },
  {
   "cell_type": "code",
   "execution_count": 15,
   "metadata": {},
   "outputs": [],
   "source": [
    "# TF Math Operations\n",
    "a = tf.constant(2)\n",
    "b = tf.constant(3)"
   ]
  },
  {
   "cell_type": "code",
   "execution_count": 27,
   "metadata": {},
   "outputs": [
    {
     "name": "stdout",
     "output_type": "stream",
     "text": [
      "7.38906\n"
     ]
    }
   ],
   "source": [
    "c = tf.exp(2.)\n",
    "print(sess.run(c))"
   ]
  },
  {
   "cell_type": "code",
   "execution_count": 28,
   "metadata": {},
   "outputs": [
    {
     "name": "stdout",
     "output_type": "stream",
     "text": [
      "17.3\n"
     ]
    }
   ],
   "source": [
    "# Exercise d = (a*b) + c\n",
    "a = tf.constant(3,dtype=tf.float32)\n",
    "b = tf.constant(4.1,dtype=tf.float32)\n",
    "c = tf.constant(5,dtype=tf.float32)\n",
    "d = tf.add(tf.multiply(a,b),c)\n",
    "\n",
    "print(sess.run(d))"
   ]
  },
  {
   "cell_type": "code",
   "execution_count": 30,
   "metadata": {},
   "outputs": [
    {
     "name": "stdout",
     "output_type": "stream",
     "text": [
      "[[1 2 3]\n",
      " [4 5 6]\n",
      " [7 8 9]]\n",
      "[3 3]\n"
     ]
    }
   ],
   "source": [
    "# Matrix\n",
    "a = tf.constant([[1,2,3],\n",
    "                [4,5,6],\n",
    "                [7,8,9]])\n",
    "print(sess.run(a))\n",
    "print(sess.run(tf.shape(a)))"
   ]
  },
  {
   "cell_type": "code",
   "execution_count": 31,
   "metadata": {},
   "outputs": [
    {
     "name": "stdout",
     "output_type": "stream",
     "text": [
      "[[5 6]\n",
      " [8 9]]\n"
     ]
    }
   ],
   "source": [
    "# Tensor Shape and Slice\n",
    "b = tf.slice(a,[1,1],[2,2])\n",
    "print(sess.run(b))"
   ]
  },
  {
   "cell_type": "code",
   "execution_count": 34,
   "metadata": {},
   "outputs": [
    {
     "name": "stdout",
     "output_type": "stream",
     "text": [
      "[[ 8  5]\n",
      " [20 13]]\n"
     ]
    }
   ],
   "source": [
    "# Basic Matrix Operations\n",
    "a = tf.constant([[1,2],[3,4]])\n",
    "b = tf.constant([[4,3],[2,1]])\n",
    "# c = tf.add(a,b)\n",
    "# c = tf.transpose(a)\n",
    "c = tf.matmul(a,b)\n",
    "print(sess.run(c))"
   ]
  },
  {
   "cell_type": "code",
   "execution_count": 35,
   "metadata": {},
   "outputs": [
    {
     "name": "stdout",
     "output_type": "stream",
     "text": [
      "[[ 7.   9.5]]\n"
     ]
    }
   ],
   "source": [
    "# Exercise\n",
    "x = tf.constant([[1.1,1.2]],dtype=tf.float32)\n",
    "w = tf.constant([[1,2],[3,4]],dtype=tf.float32)\n",
    "b = tf.constant([[2.3,2.5]],dtype=tf.float32)\n",
    "y = tf.matmul(x,w)+b\n",
    "print(sess.run(y))"
   ]
  },
  {
   "cell_type": "code",
   "execution_count": 39,
   "metadata": {},
   "outputs": [
    {
     "name": "stdout",
     "output_type": "stream",
     "text": [
      "[[-0.02820737  0.09275482  0.1442049 ]\n",
      " [ 0.03593154 -0.02148513  0.04611695]]\n",
      "[[ 0.18110301  0.06311748  0.12516394]\n",
      " [ 0.19408594  0.14380388 -0.06879967]]\n"
     ]
    }
   ],
   "source": [
    "# Random Numbers\n",
    "tf.set_random_seed(2)\n",
    "a = tf.random_normal([2,3],mean=0,stddev=0.1)\n",
    "# b = tf.truncated_normal([2,3],mean=0,stddev=0.1)\n",
    "print(sess.run(a))\n",
    "# print(sess.run(b))"
   ]
  },
  {
   "cell_type": "code",
   "execution_count": 40,
   "metadata": {},
   "outputs": [
    {
     "name": "stdout",
     "output_type": "stream",
     "text": [
      "2\n",
      "3\n"
     ]
    }
   ],
   "source": [
    "# Comparison\n",
    "a = tf.constant(2)\n",
    "b = tf.constant(3)\n",
    "print(sess.run(tf.minimum(a,b)))\n",
    "print(sess.run(tf.maximum(a,b)))"
   ]
  },
  {
   "cell_type": "code",
   "execution_count": 44,
   "metadata": {},
   "outputs": [
    {
     "name": "stdout",
     "output_type": "stream",
     "text": [
      "4\n",
      "2\n"
     ]
    }
   ],
   "source": [
    "# Exercise: Argmin and Argmax\n",
    "a = tf.constant([13,2,20,10,1,2,3])\n",
    "print(sess.run(tf.argmin(a)))\n",
    "print(sess.run(tf.argmax(a)))"
   ]
  },
  {
   "cell_type": "code",
   "execution_count": 48,
   "metadata": {},
   "outputs": [
    {
     "name": "stdout",
     "output_type": "stream",
     "text": [
      "[3 3 3]\n",
      "[3 6]\n"
     ]
    }
   ],
   "source": [
    "# Ex: Reduced Sum\n",
    "a = tf.constant(\n",
    "                [[1,1,1],\n",
    "                [2,2,2]]\n",
    "                )\n",
    "#print(sess.run(tf.reduce_sum(a)))\n",
    "print(sess.run(tf.reduce_sum(a, 0))) # Column sum\n",
    "print(sess.run(tf.reduce_sum(a, 1)))"
   ]
  },
  {
   "cell_type": "code",
   "execution_count": 53,
   "metadata": {},
   "outputs": [
    {
     "name": "stdout",
     "output_type": "stream",
     "text": [
      "[[ 0.  0.  0.]\n",
      " [ 0.  0.  0.]]\n",
      "[[ 1.  1.  1.]\n",
      " [ 1.  1.  1.]]\n",
      "[[ 1.  0.]\n",
      " [ 0.  1.]]\n",
      "[[2 2 2]\n",
      " [2 2 2]]\n",
      "[[ 1.  0.  0.]\n",
      " [ 0.  1.  0.]\n",
      " [ 0.  0.  1.]]\n"
     ]
    }
   ],
   "source": [
    "# Special Matrices\n",
    "a = tf.zeros([2,3])\n",
    "b = tf.ones([2,3])\n",
    "c = tf.diag(tf.ones(2))\n",
    "d = tf.fill([2,3],2)\n",
    "e = tf.eye(3)\n",
    "print(sess.run(a))\n",
    "print(sess.run(b))\n",
    "print(sess.run(c))\n",
    "print(sess.run(d))\n",
    "print(sess.run(e))"
   ]
  },
  {
   "cell_type": "code",
   "execution_count": 52,
   "metadata": {},
   "outputs": [
    {
     "name": "stdout",
     "output_type": "stream",
     "text": [
      "[-1.         -0.77777779 -0.55555558 -0.33333331 -0.1111111   0.11111116\n",
      "  0.33333337  0.55555558  0.77777779  1.        ]\n"
     ]
    }
   ],
   "source": [
    "a = tf.linspace(-1., 1., 10)\n",
    "print(sess.run(a))"
   ]
  },
  {
   "cell_type": "code",
   "execution_count": 55,
   "metadata": {},
   "outputs": [
    {
     "name": "stdout",
     "output_type": "stream",
     "text": [
      "7.0\n",
      "7.0\n"
     ]
    }
   ],
   "source": [
    "# Placeholder\n",
    "a = tf.placeholder(tf.float32)\n",
    "b = tf.placeholder(tf.float32)\n",
    "sum = tf.add(a,b)\n",
    "print(sess.run(sum,{a:3,b:4}))\n",
    "print(sess.run(sum,feed_dict={a:3,b:4}))"
   ]
  },
  {
   "cell_type": "code",
   "execution_count": 61,
   "metadata": {},
   "outputs": [
    {
     "name": "stdout",
     "output_type": "stream",
     "text": [
      "[[ 7.   9.5]]\n"
     ]
    }
   ],
   "source": [
    "# Challenge\n",
    "\n",
    "x = tf.placeholder(tf.float32,shape=[1,2])\n",
    "w = tf.placeholder(tf.float32,shape=[2,2])\n",
    "b = tf.constant([[2.3,2.5]],tf.float32)\n",
    "y = tf.add(tf.matmul(x,w),b)\n",
    "print(sess.run(y,feed_dict={\n",
    "     x:[[1.1,1.2]],\n",
    "     w:[[1,2],[3,4]]})\n",
    "       )"
   ]
  },
  {
   "cell_type": "code",
   "execution_count": 62,
   "metadata": {},
   "outputs": [],
   "source": [
    "# Variables\n",
    "W = tf.Variable([1.], tf.float32)\n",
    "b = tf.Variable([-1.], tf.float32)\n",
    "x = tf.placeholder(tf.float32)\n",
    "y = W * x + b"
   ]
  },
  {
   "cell_type": "code",
   "execution_count": 63,
   "metadata": {},
   "outputs": [
    {
     "name": "stdout",
     "output_type": "stream",
     "text": [
      "[ 0.  1.  2.  3.]\n"
     ]
    }
   ],
   "source": [
    "init = tf.global_variables_initializer()\n",
    "sess.run(init)\n",
    "print(sess.run(y, {x:[1,2,3,4]}))"
   ]
  },
  {
   "cell_type": "code",
   "execution_count": null,
   "metadata": {},
   "outputs": [],
   "source": []
  }
 ],
 "metadata": {
  "kernelspec": {
   "display_name": "Python 3",
   "language": "python",
   "name": "python3"
  },
  "language_info": {
   "codemirror_mode": {
    "name": "ipython",
    "version": 3
   },
   "file_extension": ".py",
   "mimetype": "text/x-python",
   "name": "python",
   "nbconvert_exporter": "python",
   "pygments_lexer": "ipython3",
   "version": "3.6.4"
  }
 },
 "nbformat": 4,
 "nbformat_minor": 2
}
