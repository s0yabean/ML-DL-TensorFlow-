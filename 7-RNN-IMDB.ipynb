{
 "cells": [
  {
   "cell_type": "markdown",
   "metadata": {},
   "source": [
    "### RNN on IMDB Data"
   ]
  },
  {
   "cell_type": "code",
   "execution_count": 1,
   "metadata": {},
   "outputs": [],
   "source": [
    "import numpy as np\n",
    "import tensorflow as tf\n",
    "from tensorflow.contrib import rnn\n",
    "tf.set_random_seed(25)"
   ]
  },
  {
   "cell_type": "code",
   "execution_count": 2,
   "metadata": {},
   "outputs": [],
   "source": [
    "#Parameters\n",
    "training_epochs = 2\n",
    "batch_size = 100\n",
    "learning_rate = 0.5"
   ]
  },
  {
   "cell_type": "code",
   "execution_count": 3,
   "metadata": {},
   "outputs": [
    {
     "name": "stderr",
     "output_type": "stream",
     "text": [
      "Using TensorFlow backend.\n"
     ]
    },
    {
     "name": "stdout",
     "output_type": "stream",
     "text": [
      "Downloading data from https://s3.amazonaws.com/text-datasets/imdb.npz\n",
      "17465344/17464789 [==============================] - 6s 0us/step\n"
     ]
    }
   ],
   "source": [
    "# Step 1: Pre-process data\n",
    "from keras.preprocessing import sequence\n",
    "from keras.datasets import imdb\n",
    "\n",
    "max_words= 20000\n",
    "max_len = 80\n",
    "(X_train, y_train), (X_test, y_test) = imdb.load_data(num_words=max_words)\n",
    "X_train = sequence.pad_sequences(X_train,maxlen=max_len,padding='pre', truncating='pre')\n",
    "X_test = sequence.pad_sequences(X_test,maxlen=max_len)"
   ]
  },
  {
   "cell_type": "code",
   "execution_count": 4,
   "metadata": {},
   "outputs": [],
   "source": [
    "# One-hot encoding the labels\n",
    "n_classes = len(np.unique(y_train)) # n_classes = 2\n",
    "y_train = np.eye(n_classes)[y_train]\n",
    "y_test = np.eye(n_classes)[y_test]\n",
    "\n",
    "embedding_size = 128\n",
    "rnn_size = 32\n",
    "X = tf.placeholder('int32', [None, max_len])\n",
    "y = tf.placeholder('int32')\n",
    "W = tf.Variable(tf.truncated_normal([rnn_size, n_classes],stddev=0.1))\n",
    "B = tf.Variable(tf.truncated_normal([n_classes],stddev=0.1))\n",
    "embeddings = tf.Variable(tf.random_uniform([max_words, embedding_size], -1.0, 1.0))"
   ]
  },
  {
   "cell_type": "code",
   "execution_count": 5,
   "metadata": {},
   "outputs": [],
   "source": [
    "# Step 2: Setup Model\n",
    "x_embedded = tf.nn.embedding_lookup(embeddings, X)\n",
    "x_embedded = tf.unstack(x_embedded, axis=1)\n",
    "cell = rnn.BasicLSTMCell(rnn_size)\n",
    "H, C = rnn.static_rnn(cell, x_embedded, dtype=tf.float32)\n",
    "\n",
    "Ylogits = tf.matmul(H[-1], W) + B\n",
    "yhat = tf.nn.softmax(Ylogits)"
   ]
  },
  {
   "cell_type": "code",
   "execution_count": 6,
   "metadata": {},
   "outputs": [],
   "source": [
    "# Step 3: Loss Functions\n",
    "loss = tf.reduce_mean(\n",
    "   tf.nn.softmax_cross_entropy_with_logits_v2(labels=y, logits=Ylogits))\n",
    "\n",
    "# Step 4: Optimizer\n",
    "train = tf.train.GradientDescentOptimizer(learning_rate).minimize(loss)\n",
    "\n",
    "is_correct = tf.equal(tf.argmax(y,1),tf.argmax(yhat,1))\n",
    "accuracy = tf.reduce_mean(tf.cast(is_correct,tf.float32))\n",
    "\n",
    "init = tf.global_variables_initializer()\n",
    "sess = tf.Session()\n",
    "sess.run(init)"
   ]
  },
  {
   "cell_type": "code",
   "execution_count": 7,
   "metadata": {},
   "outputs": [
    {
     "name": "stdout",
     "output_type": "stream",
     "text": [
      "1 / 249 Training Accuracy =  0.77\n"
     ]
    }
   ],
   "source": [
    "# Step 5: Training Loop\n",
    "for epoch in range(training_epochs):\n",
    "    for i in range(int(X_train.shape[0] / batch_size)):\n",
    "        batch_X = X_train[(i*batch_size):((i+1)*batch_size)]\n",
    "        batch_y = y_train[(i*batch_size):((i+1)*batch_size)]\n",
    "        train_data = {X: batch_X, y: batch_y}\n",
    "        sess.run(train, feed_dict=train_data)\n",
    "print(epoch, \"/\", i,\"Training Accuracy = \", sess.run(accuracy, feed_dict=train_data))"
   ]
  },
  {
   "cell_type": "code",
   "execution_count": 8,
   "metadata": {},
   "outputs": [
    {
     "name": "stdout",
     "output_type": "stream",
     "text": [
      "Testing Accuracy/Loss =  0.74608\n"
     ]
    }
   ],
   "source": [
    "# Step 6: Evaluation\n",
    "acc = []\n",
    "for i in range(int(X_test.shape[0] / batch_size)):\n",
    "    batch_X = X_test[(i*batch_size):((i+1)*batch_size)]\n",
    "    batch_y = y_test[(i*batch_size):((i+1)*batch_size)]\n",
    "    test_data = {X: batch_X, y: batch_y}\n",
    "    sess.run(train, feed_dict = test_data)\n",
    "    acc.append(sess.run(accuracy, feed_dict = test_data))\n",
    "\n",
    "print(\"Testing Accuracy/Loss = \", sess.run(tf.reduce_mean(acc)))"
   ]
  },
  {
   "cell_type": "code",
   "execution_count": null,
   "metadata": {},
   "outputs": [],
   "source": []
  }
 ],
 "metadata": {
  "kernelspec": {
   "display_name": "Python 3",
   "language": "python",
   "name": "python3"
  },
  "language_info": {
   "codemirror_mode": {
    "name": "ipython",
    "version": 3
   },
   "file_extension": ".py",
   "mimetype": "text/x-python",
   "name": "python",
   "nbconvert_exporter": "python",
   "pygments_lexer": "ipython3",
   "version": "3.6.4"
  }
 },
 "nbformat": 4,
 "nbformat_minor": 2
}
