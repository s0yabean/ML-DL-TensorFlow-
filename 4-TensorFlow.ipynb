{
 "cells": [
  {
   "cell_type": "markdown",
   "metadata": {},
   "source": [
    "### # Live Demo on MNIST Data"
   ]
  },
  {
   "cell_type": "code",
   "execution_count": 1,
   "metadata": {},
   "outputs": [],
   "source": [
    "import tensorflow as tf\n",
    "import numpy as np\n",
    "import tkinter as tk\n",
    "from PIL import Image, ImageDraw, ImageFilter"
   ]
  },
  {
   "cell_type": "code",
   "execution_count": 2,
   "metadata": {},
   "outputs": [],
   "source": [
    "class ImageGenerator:\n",
    "\n",
    "    def __init__(self, parent, *kwargs):\n",
    "        self.parent = parent\n",
    "        self.posx = 10\n",
    "        self.posy = 10\n",
    "        self.sizex = 200\n",
    "        self.sizey = 200\n",
    "        self.b1 = \"up\"\n",
    "        self.xold = None\n",
    "        self.yold = None\n",
    "        self.drawing_area = tk.Canvas(self.parent, width=self.sizex, height=self.sizey)\n",
    "        self.drawing_area.place(x=self.posx, y=self.posy)\n",
    "        self.drawing_area.bind(\"<Motion>\", self.motion)\n",
    "        self.drawing_area.bind(\"<ButtonPress-1>\", self.b1down)\n",
    "        self.drawing_area.bind(\"<ButtonRelease-1>\", self.b1up)\n",
    "        self.button = tk.Button(self.parent, text=\"Done!\", width=10, bg='white', command=self.minst_nn_pred)\n",
    "        self.button.place(x=self.sizex / 7, y=self.sizey + 20)\n",
    "        self.button1 = tk.Button(self.parent, text=\"Clear!\", width=10, bg='white', command=self.clear)\n",
    "        self.button1.place(x=(self.sizex / 7) + 80, y=self.sizey + 20)\n",
    "\n",
    "        self.image = Image.new(\"RGB\", (200, 200), (255, 255, 255))\n",
    "        self.draw = ImageDraw.Draw(self.image)\n",
    "\n",
    "    def save(self):\n",
    "        img = self.image.resize((28,28)).convert('L')\n",
    "        self.minst_nn_pred(img)\n",
    "\n",
    "    def clear(self):\n",
    "        self.drawing_area.delete(\"all\")\n",
    "        self.image = Image.new(\"RGB\", (200, 200), (255, 255, 255))\n",
    "        self.draw = ImageDraw.Draw(self.image)\n",
    "\n",
    "    def b1down(self, event):\n",
    "        self.b1 = \"down\"\n",
    "\n",
    "    def b1up(self, event):\n",
    "        self.b1 = \"up\"\n",
    "        self.xold = None\n",
    "        self.yold = None\n",
    "\n",
    "    def motion(self, event):\n",
    "        if self.b1 == \"down\":\n",
    "            if self.xold is not None and self.yold is not None:\n",
    "                event.widget.create_line(self.xold, self.yold, event.x, event.y, smooth='true', width=20, fill='black')\n",
    "                self.draw.line(((self.xold, self.yold), (event.x, event.y)), (0, 128, 0), width=20)\n",
    "\n",
    "        self.xold = event.x\n",
    "        self.yold = event.y\n",
    "\n",
    "    def minst_nn_pred(self):\n",
    "\n",
    "\n",
    "        sess = tf.Session()\n",
    "        saver = tf.train.import_meta_graph('./models/mnist_nn/mnist_nn.ckpt.meta')\n",
    "        saver.restore(sess, tf.train.latest_checkpoint('./models/mnist_nn/'))\n",
    "\n",
    "        graph = tf.get_default_graph()\n",
    "        X = graph.get_tensor_by_name(\"X:0\")\n",
    "        yhat = graph.get_tensor_by_name(\"yhat:0\")\n",
    "\n",
    "        img = self.image.convert('L').resize((28, 28))\n",
    "        X_test = np.asarray(img)\n",
    "        X_test = X_test.astype('float32')\n",
    "        X_test = (255.0 - X_test)/255.0\n",
    "\n",
    "        # import matplotlib.pyplot as plt\n",
    "        # plt.imshow(X_test,cmap='gray')\n",
    "        # plt.show()\n",
    "\n",
    "        X_test = X_test.reshape(1, 784)\n",
    "\n",
    "        prediction = sess.run(tf.argmax(yhat,1), feed_dict={X: X_test})\n",
    "        print(\"Predicted digit is : \", prediction)"
   ]
  },
  {
   "cell_type": "code",
   "execution_count": null,
   "metadata": {},
   "outputs": [],
   "source": [
    "L1 = 200\n",
    "L2 = 100\n",
    "L3 = 50\n",
    "\n",
    "W1 = tf.Variable(tf.truncated_normal([784, L1], stddev=0.1))\n",
    "B1 = tf.Variable(tf.truncated_normal([L1],stddev=0.1))\n",
    "W2 = tf.Variable(tf.truncated_normal([L1, L2], stddev=0.1))\n",
    "B2 = tf.Variable(tf.truncated_normal([L2],stddev=0.1))\n",
    "W3 = tf.Variable(tf.truncated_normal([L2, L3], stddev=0.1))\n",
    "B3 = tf.Variable(tf.truncated_normal([L3],stddev=0.1))\n",
    "W4 = tf.Variable(tf.truncated_normal([L3, 10], stddev=0.1))\n",
    "B4 = tf.Variable(tf.truncated_normal([10],stddev=0.1))"
   ]
  },
  {
   "cell_type": "code",
   "execution_count": 4,
   "metadata": {},
   "outputs": [
    {
     "name": "stdout",
     "output_type": "stream",
     "text": [
      "INFO:tensorflow:Restoring parameters from ./models/mnist_nn/mnist_nn.ckpt\n",
      "Predicted digit is :  [3]\n",
      "INFO:tensorflow:Restoring parameters from ./models/mnist_nn/mnist_nn.ckpt\n",
      "Predicted digit is :  [8]\n",
      "INFO:tensorflow:Restoring parameters from ./models/mnist_nn/mnist_nn.ckpt\n",
      "Predicted digit is :  [0]\n",
      "INFO:tensorflow:Restoring parameters from ./models/mnist_nn/mnist_nn.ckpt\n",
      "Predicted digit is :  [4]\n",
      "INFO:tensorflow:Restoring parameters from ./models/mnist_nn/mnist_nn.ckpt\n",
      "Predicted digit is :  [2]\n"
     ]
    }
   ],
   "source": [
    "if __name__ == \"__main__\":\n",
    "    root = tk.Tk()\n",
    "    root.wm_geometry(\"%dx%d+%d+%d\" % (250, 250, 10, 10))\n",
    "    root.config(bg='white')\n",
    "    ImageGenerator(root)\n",
    "    root.mainloop()"
   ]
  },
  {
   "cell_type": "code",
   "execution_count": null,
   "metadata": {},
   "outputs": [],
   "source": []
  }
 ],
 "metadata": {
  "kernelspec": {
   "display_name": "Python 3",
   "language": "python",
   "name": "python3"
  },
  "language_info": {
   "codemirror_mode": {
    "name": "ipython",
    "version": 3
   },
   "file_extension": ".py",
   "mimetype": "text/x-python",
   "name": "python",
   "nbconvert_exporter": "python",
   "pygments_lexer": "ipython3",
   "version": "3.6.4"
  }
 },
 "nbformat": 4,
 "nbformat_minor": 2
}
